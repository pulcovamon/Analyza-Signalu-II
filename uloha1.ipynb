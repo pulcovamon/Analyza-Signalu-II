{
 "cells": [
  {
   "cell_type": "code",
   "execution_count": 1,
   "metadata": {
    "executionInfo": {
     "elapsed": 1900,
     "status": "ok",
     "timestamp": 1744022382731,
     "user": {
      "displayName": "Monika Pulcová",
      "userId": "04735088247051246311"
     },
     "user_tz": -120
    },
    "id": "Cu3amOYv-Vaa"
   },
   "outputs": [],
   "source": [
    "import numpy as np\n",
    "import matplotlib.pyplot as plt\n",
    "from matplotlib.widgets import Slider\n",
    "from scipy.signal import medfilt, butter, filtfilt, find_peaks\n",
    "import scipy.io"
   ]
  },
  {
   "cell_type": "code",
   "execution_count": null,
   "metadata": {
    "id": "5w73GXjc-XgB"
   },
   "outputs": [],
   "source": [
    "# params\n",
    "fs = 250\n",
    "window_len_sec = 10\n",
    "plot_window_sec = 60"
   ]
  },
  {
   "cell_type": "code",
   "execution_count": null,
   "metadata": {
    "colab": {
     "base_uri": "https://localhost:8080/"
    },
    "executionInfo": {
     "elapsed": 22870,
     "status": "ok",
     "timestamp": 1742231804185,
     "user": {
      "displayName": "Monika Pulcová",
      "userId": "04735088247051246311"
     },
     "user_tz": -60
    },
    "id": "XeApt08kD4jy",
    "outputId": "553cc639-ba60-4949-adb1-856638eb702e"
   },
   "outputs": [
    {
     "name": "stdout",
     "output_type": "stream",
     "text": [
      "Mounted at /content/drive\n",
      "ASII_uloha1_stresove_EKG.ipynb\tecg.mat  EEG_MonikaPulcova.ipynb  Untitled0.ipynb\n",
      "data_FHR.mat\t\t\teeg.mat  fetal_heart_rate.ipynb\n"
     ]
    }
   ],
   "source": [
    "from google.colab import drive\n",
    "drive.mount('/content/drive')\n",
    "!ls /content/drive/MyDrive/fbmi/ASII/"
   ]
  },
  {
   "cell_type": "code",
   "execution_count": null,
   "metadata": {
    "colab": {
     "base_uri": "https://localhost:8080/"
    },
    "executionInfo": {
     "elapsed": 83,
     "status": "ok",
     "timestamp": 1742231814607,
     "user": {
      "displayName": "Monika Pulcová",
      "userId": "04735088247051246311"
     },
     "user_tz": -60
    },
    "id": "YqKAAY88-fL0",
    "outputId": "cd573bb2-c62f-44fa-9eb4-628621852bf1"
   },
   "outputs": [
    {
     "name": "stdout",
     "output_type": "stream",
     "text": [
      "Klíče v souboru: dict_keys(['__header__', '__version__', '__globals__', 'ecg118e00'])\n"
     ]
    },
    {
     "data": {
      "text/plain": [
       "array([[ -5.955,  -5.635],\n",
       "       [ -5.955,  -5.635],\n",
       "       [ -5.955,  -5.635],\n",
       "       ...,\n",
       "       [  1.12 , -11.36 ],\n",
       "       [  1.175, -11.4  ],\n",
       "       [ -3.95 , -16.515]])"
      ]
     },
     "execution_count": 6,
     "metadata": {},
     "output_type": "execute_result"
    }
   ],
   "source": [
    "mat_data = scipy.io.loadmat(\"/content/drive/MyDrive/fbmi/ASII/ecg.mat\")\n",
    "print(\"Klíče v souboru:\", mat_data.keys())\n",
    "\n",
    "signal = mat_data[\"ecg118e00\"].squeeze()\n",
    "signal"
   ]
  },
  {
   "cell_type": "code",
   "execution_count": null,
   "metadata": {
    "colab": {
     "base_uri": "https://localhost:8080/"
    },
    "executionInfo": {
     "elapsed": 187253,
     "status": "ok",
     "timestamp": 1742233633980,
     "user": {
      "displayName": "Monika Pulcová",
      "userId": "04735088247051246311"
     },
     "user_tz": -60
    },
    "id": "pr-6zJGCMSAE",
    "outputId": "4653e962-23d6-4865-d6e7-89751fbe4b51"
   },
   "outputs": [
    {
     "name": "stderr",
     "output_type": "stream",
     "text": [
      "<ipython-input-8-c8ff179ccc82>:2: UserWarning: kernel_size exceeds volume extent: the volume will be zero-padded.\n",
      "  baseline = medfilt(signal, kernel_size=201)\n"
     ]
    }
   ],
   "source": [
    "baseline = medfilt(signal, kernel_size=201)\n",
    "signal_detrended = signal - baseline"
   ]
  },
  {
   "cell_type": "code",
   "execution_count": null,
   "metadata": {
    "id": "9P-W2oaijyl0"
   },
   "outputs": [],
   "source": [
    "def bandstop_filter(data, lowcut, highcut, fs, order=2):\n",
    "    nyq = 0.5 * fs\n",
    "    low = lowcut / nyq\n",
    "    high = highcut / nyq\n",
    "    b, a = butter(order, [low, high], btype='bandstop')\n",
    "    # Apply filter to each column of the data separately\n",
    "    y = np.zeros_like(data) # Initialize output array\n",
    "    for i in range(data.shape[1]): # Loop through columns\n",
    "        y[:,i] = filtfilt(b, a, data[:,i]) # Filter each column\n",
    "    return y\n",
    "signal_filtered = bandstop_filter(signal_detrended, 48, 52, fs)"
   ]
  },
  {
   "cell_type": "code",
   "execution_count": null,
   "metadata": {
    "colab": {
     "base_uri": "https://localhost:8080/",
     "height": 356
    },
    "executionInfo": {
     "elapsed": 5,
     "status": "error",
     "timestamp": 1742235025906,
     "user": {
      "displayName": "Monika Pulcová",
      "userId": "04735088247051246311"
     },
     "user_tz": -60
    },
    "id": "nyXERsCf-iPC",
    "outputId": "0d0df6cc-7587-44e9-d156-29904d6076fd"
   },
   "outputs": [
    {
     "ename": "ValueError",
     "evalue": "`x` must be a 1-D array",
     "output_type": "error",
     "traceback": [
      "\u001b[0;31m---------------------------------------------------------------------------\u001b[0m",
      "\u001b[0;31mValueError\u001b[0m                                Traceback (most recent call last)",
      "\u001b[0;32m<ipython-input-10-7330f6585636>\u001b[0m in \u001b[0;36m<cell line: 0>\u001b[0;34m()\u001b[0m\n\u001b[1;32m      5\u001b[0m \u001b[0mmin_distance\u001b[0m \u001b[0;34m=\u001b[0m \u001b[0mint\u001b[0m\u001b[0;34m(\u001b[0m\u001b[0;36m0.8\u001b[0m \u001b[0;34m*\u001b[0m \u001b[0mfs\u001b[0m\u001b[0;34m)\u001b[0m\u001b[0;34m\u001b[0m\u001b[0;34m\u001b[0m\u001b[0m\n\u001b[1;32m      6\u001b[0m \u001b[0mpeak_height\u001b[0m \u001b[0;34m=\u001b[0m \u001b[0;36m0.5\u001b[0m \u001b[0;34m*\u001b[0m \u001b[0mnp\u001b[0m\u001b[0;34m.\u001b[0m\u001b[0mmax\u001b[0m\u001b[0;34m(\u001b[0m\u001b[0msignal_filtered\u001b[0m\u001b[0;34m)\u001b[0m\u001b[0;34m\u001b[0m\u001b[0;34m\u001b[0m\u001b[0m\n\u001b[0;32m----> 7\u001b[0;31m \u001b[0mpeaks\u001b[0m\u001b[0;34m,\u001b[0m \u001b[0mproperties\u001b[0m \u001b[0;34m=\u001b[0m \u001b[0mfind_peaks\u001b[0m\u001b[0;34m(\u001b[0m\u001b[0msignal_filtered\u001b[0m\u001b[0;34m,\u001b[0m \u001b[0mheight\u001b[0m\u001b[0;34m=\u001b[0m\u001b[0mpeak_height\u001b[0m\u001b[0;34m,\u001b[0m \u001b[0mdistance\u001b[0m\u001b[0;34m=\u001b[0m\u001b[0mmin_distance\u001b[0m\u001b[0;34m)\u001b[0m\u001b[0;34m\u001b[0m\u001b[0;34m\u001b[0m\u001b[0m\n\u001b[0m\u001b[1;32m      8\u001b[0m \u001b[0;34m\u001b[0m\u001b[0m\n\u001b[1;32m      9\u001b[0m \u001b[0;31m# --- VÝPOČET HRV PARAMETRŮ ---\u001b[0m\u001b[0;34m\u001b[0m\u001b[0;34m\u001b[0m\u001b[0m\n",
      "\u001b[0;32m/usr/local/lib/python3.11/dist-packages/scipy/signal/_peak_finding.py\u001b[0m in \u001b[0;36mfind_peaks\u001b[0;34m(x, height, threshold, distance, prominence, width, wlen, rel_height, plateau_size)\u001b[0m\n\u001b[1;32m    937\u001b[0m     \"\"\"\n\u001b[1;32m    938\u001b[0m     \u001b[0;31m# _argmaxima1d expects array of dtype 'float64'\u001b[0m\u001b[0;34m\u001b[0m\u001b[0;34m\u001b[0m\u001b[0m\n\u001b[0;32m--> 939\u001b[0;31m     \u001b[0mx\u001b[0m \u001b[0;34m=\u001b[0m \u001b[0m_arg_x_as_expected\u001b[0m\u001b[0;34m(\u001b[0m\u001b[0mx\u001b[0m\u001b[0;34m)\u001b[0m\u001b[0;34m\u001b[0m\u001b[0;34m\u001b[0m\u001b[0m\n\u001b[0m\u001b[1;32m    940\u001b[0m     \u001b[0;32mif\u001b[0m \u001b[0mdistance\u001b[0m \u001b[0;32mis\u001b[0m \u001b[0;32mnot\u001b[0m \u001b[0;32mNone\u001b[0m \u001b[0;32mand\u001b[0m \u001b[0mdistance\u001b[0m \u001b[0;34m<\u001b[0m \u001b[0;36m1\u001b[0m\u001b[0;34m:\u001b[0m\u001b[0;34m\u001b[0m\u001b[0;34m\u001b[0m\u001b[0m\n\u001b[1;32m    941\u001b[0m         \u001b[0;32mraise\u001b[0m \u001b[0mValueError\u001b[0m\u001b[0;34m(\u001b[0m\u001b[0;34m'`distance` must be greater or equal to 1'\u001b[0m\u001b[0;34m)\u001b[0m\u001b[0;34m\u001b[0m\u001b[0;34m\u001b[0m\u001b[0m\n",
      "\u001b[0;32m/usr/local/lib/python3.11/dist-packages/scipy/signal/_peak_finding.py\u001b[0m in \u001b[0;36m_arg_x_as_expected\u001b[0;34m(value)\u001b[0m\n\u001b[1;32m    266\u001b[0m     \u001b[0mvalue\u001b[0m \u001b[0;34m=\u001b[0m \u001b[0mnp\u001b[0m\u001b[0;34m.\u001b[0m\u001b[0masarray\u001b[0m\u001b[0;34m(\u001b[0m\u001b[0mvalue\u001b[0m\u001b[0;34m,\u001b[0m \u001b[0morder\u001b[0m\u001b[0;34m=\u001b[0m\u001b[0;34m'C'\u001b[0m\u001b[0;34m,\u001b[0m \u001b[0mdtype\u001b[0m\u001b[0;34m=\u001b[0m\u001b[0mnp\u001b[0m\u001b[0;34m.\u001b[0m\u001b[0mfloat64\u001b[0m\u001b[0;34m)\u001b[0m\u001b[0;34m\u001b[0m\u001b[0;34m\u001b[0m\u001b[0m\n\u001b[1;32m    267\u001b[0m     \u001b[0;32mif\u001b[0m \u001b[0mvalue\u001b[0m\u001b[0;34m.\u001b[0m\u001b[0mndim\u001b[0m \u001b[0;34m!=\u001b[0m \u001b[0;36m1\u001b[0m\u001b[0;34m:\u001b[0m\u001b[0;34m\u001b[0m\u001b[0;34m\u001b[0m\u001b[0m\n\u001b[0;32m--> 268\u001b[0;31m         \u001b[0;32mraise\u001b[0m \u001b[0mValueError\u001b[0m\u001b[0;34m(\u001b[0m\u001b[0;34m'`x` must be a 1-D array'\u001b[0m\u001b[0;34m)\u001b[0m\u001b[0;34m\u001b[0m\u001b[0;34m\u001b[0m\u001b[0m\n\u001b[0m\u001b[1;32m    269\u001b[0m     \u001b[0;32mreturn\u001b[0m \u001b[0mvalue\u001b[0m\u001b[0;34m\u001b[0m\u001b[0;34m\u001b[0m\u001b[0m\n\u001b[1;32m    270\u001b[0m \u001b[0;34m\u001b[0m\u001b[0m\n",
      "\u001b[0;31mValueError\u001b[0m: `x` must be a 1-D array"
     ]
    }
   ],
   "source": [
    "min_distance = int(0.8 * fs)\n",
    "peak_height = 0.5 * np.max(signal_filtered)\n",
    "peaks, properties = find_peaks(signal_filtered, height=peak_height, distance=min_distance)\n",
    "\n",
    "\n",
    "rr_intervals = np.diff(peaks) / fs\n",
    "\n",
    "def compute_hrv(rr_ints):\n",
    "    if len(rr_ints) < 2:\n",
    "        return None\n",
    "    hr = 60 / np.mean(rr_ints)\n",
    "    sdnn = np.std(rr_ints) \n",
    "    rmssd = np.sqrt(np.mean(np.diff(rr_ints)**2))\n",
    "    diff_rr = np.abs(np.diff(rr_ints))\n",
    "    nn50 = np.sum(diff_rr > 0.05)\n",
    "    pnn50 = (nn50 / len(diff_rr)) * 100 if len(diff_rr) > 0 else 0\n",
    "    return {\"HR\": hr, \"SDNN\": sdnn, \"RMSSD\": rmssd, \"NN50\": nn50, \"pNN50\": pnn50}\n",
    "\n",
    "num_samples_window = window_len_sec * fs\n",
    "hrv_results = []\n",
    "for start in range(0, len(signal_filtered), num_samples_window):\n",
    "    end = start + num_samples_window\n",
    "    window_peaks = peaks[(peaks >= start) & (peaks < end)]\n",
    "    if len(window_peaks) > 1:\n",
    "        rr_window = np.diff(window_peaks) / fs\n",
    "        hrv = compute_hrv(rr_window)\n",
    "        hrv_results.append((start/fs, hrv))\n",
    "    else:\n",
    "        hrv_results.append((start/fs, None))"
   ]
  },
  {
   "cell_type": "code",
   "execution_count": null,
   "metadata": {
    "id": "qqDbf9gq-kkd"
   },
   "outputs": [],
   "source": [
    "fig, ax = plt.subplots(figsize=(12, 6))\n",
    "plt.subplots_adjust(bottom=0.25)\n",
    "time = np.arange(len(signal_filtered)) / fs\n",
    "\n",
    "def update_plot(start_time):\n",
    "    start_idx = int(start_time * fs)\n",
    "    end_idx = start_idx + int(plot_window_sec * fs)\n",
    "    ax.clear()\n",
    "    ax.plot(time[start_idx:end_idx], signal_filtered[start_idx:end_idx], label=\"Filtered ECG\")\n",
    "\n",
    "    window_peaks = peaks[(peaks >= start_idx) & (peaks < end_idx)]\n",
    "    ax.plot(time[window_peaks], signal_filtered[window_peaks], \"ro\", label=\"R peaks\")\n",
    "\n",
    "    for window_start_sec, hrv in hrv_results:\n",
    "        if start_time <= window_start_sec < start_time + plot_window_sec:\n",
    "            if hrv is not None:\n",
    "                pos = window_start_sec + window_len_sec/2\n",
    "                txt = f\"HR: {hrv['HR']:.1f} BPM\\nSDNN: {hrv['SDNN']:.3f}s\\nRMSSD: {hrv['RMSSD']:.3f}s\\npNN50: {hrv['pNN50']:.1f}%\"\n",
    "                ax.text(pos, np.max(signal_filtered[start_idx:end_idx])*0.8, txt,\n",
    "                        fontsize=8, bbox=dict(facecolor='yellow', alpha=0.3))\n",
    "\n",
    "    ax.set_xlabel(\"Time (s)\")\n",
    "    ax.set_ylabel(\"Amplitude\")\n",
    "    ax.set_title(\"60s window of ECG signal with detected R waves and HRV annotations\")\n",
    "    ax.legend()\n",
    "    ax.set_xlim(time[start_idx], time[end_idx])\n",
    "    plt.draw()\n",
    "\n",
    "init_start = 0\n",
    "update_plot(init_start)\n",
    "\n",
    "ax_slider = plt.axes([0.15, 0.1, 0.7, 0.03])\n",
    "slider = Slider(ax_slider, 'Start time (s)', 0, (len(signal_filtered)/fs - plot_window_sec),\n",
    "                valinit=init_start, valstep=1)\n",
    "\n",
    "def slider_update(val):\n",
    "    update_plot(val)\n",
    "\n",
    "slider.on_changed(slider_update)\n",
    "\n",
    "plt.show()"
   ]
  }
 ],
 "metadata": {
  "colab": {
   "authorship_tag": "ABX9TyOeE1IgdxLj80/Y3zUSTMcU",
   "provenance": []
  },
  "kernelspec": {
   "display_name": "Python 3",
   "name": "python3"
  },
  "language_info": {
   "name": "python"
  }
 },
 "nbformat": 4,
 "nbformat_minor": 0
}
